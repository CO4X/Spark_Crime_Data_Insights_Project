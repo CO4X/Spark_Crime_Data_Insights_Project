{
  "nbformat": 4,
  "nbformat_minor": 0,
  "metadata": {
    "colab": {
      "provenance": []
    },
    "kernelspec": {
      "name": "python3",
      "display_name": "Python 3"
    },
    "language_info": {
      "name": "python"
    }
  },
  "cells": [
    {
      "cell_type": "code",
      "source": [
        "# =============================================================================\n",
        "# Projet : Analyse des données criminelles avec PySpark\n",
        "# But : Analyse complète des crimes de Chicago (~8 millions de lignes)\n",
        "#       dans le cadre de mon autoformation Big Data et Spark\n",
        "#       avec application du maximum de fonctions PySpark (niveau débutant → avancé)\n",
        "# Auteur : Mr. Ayoub BAMOUH\n",
        "# Fonction : Data Engineer & Biomedical Engineer\n",
        "# ============================================================================="
      ],
      "metadata": {
        "id": "pKbE8YrjmYa2"
      },
      "execution_count": 89,
      "outputs": []
    },
    {
      "cell_type": "code",
      "source": [
        "# =========================================================\n",
        "# 1. Connexion Google Colab avec Google Drive\n",
        "# ========================================================="
      ],
      "metadata": {
        "id": "fcUig2M1oX7D"
      },
      "execution_count": 90,
      "outputs": []
    },
    {
      "cell_type": "code",
      "source": [
        "from google.colab import drive         # Import du module Google Colab Drive pour connecter ton Drive\n",
        "drive.mount('/content/drive')          # Monte ton Google Drive dans /content/drive pour accéder aux fichiers"
      ],
      "metadata": {
        "colab": {
          "base_uri": "https://localhost:8080/"
        },
        "id": "uwtz0kUIoWJ2",
        "outputId": "55be1cd3-c180-4bcb-bb88-6bc17f6663e5"
      },
      "execution_count": 91,
      "outputs": [
        {
          "output_type": "stream",
          "name": "stdout",
          "text": [
            "Drive already mounted at /content/drive; to attempt to forcibly remount, call drive.mount(\"/content/drive\", force_remount=True).\n"
          ]
        }
      ]
    },
    {
      "cell_type": "code",
      "source": [
        "# =========================================================\n",
        "# 2. Installation & Configuration Spark\n",
        "# ========================================================="
      ],
      "metadata": {
        "id": "n0JM2gguoX4J"
      },
      "execution_count": 92,
      "outputs": []
    },
    {
      "cell_type": "code",
      "source": [
        "!pip install pyspark -q                # Installe silencieusement PySpark (librairie principale Spark pour Python)\n",
        "!pip install findspark -q              # Installe findspark pour faciliter l’intégration Spark ↔ Python"
      ],
      "metadata": {
        "id": "e0Drw1y-oX1x"
      },
      "execution_count": 93,
      "outputs": []
    },
    {
      "cell_type": "code",
      "source": [
        "from pyspark.sql import SparkSession   # Import de SparkSession (point d’entrée de toute application Spark)\n",
        "# Création de la session Spark avec un nom personnalisé pour ton projet\n",
        "spark = SparkSession.builder.appName(\"Spark_Crime_Data_Insights_Project\").getOrCreate()"
      ],
      "metadata": {
        "id": "9VL7bvj6oXyp"
      },
      "execution_count": 94,
      "outputs": []
    },
    {
      "cell_type": "code",
      "source": [
        "# =========================================================\n",
        "# 3. Import des librairies nécessaires\n",
        "# ========================================================="
      ],
      "metadata": {
        "id": "XLkoignBoXwR"
      },
      "execution_count": 95,
      "outputs": []
    },
    {
      "cell_type": "code",
      "source": [
        "from pyspark.sql.functions import *    # Import de toutes les fonctions SQL (ex: col, lit, to_date, to_timestamp…)\n",
        "# Types de données explicites pour bien typer les colonnes (entiers, booléens, flottants, longs…)\n",
        "from pyspark.sql.types import IntegerType, DoubleType, BooleanType, LongType"
      ],
      "metadata": {
        "id": "_FEAgxpSoXta"
      },
      "execution_count": 96,
      "outputs": []
    },
    {
      "cell_type": "code",
      "source": [
        "# =========================================================\n",
        "# 4. Ingestion des données\n",
        "# ========================================================="
      ],
      "metadata": {
        "id": "J6USiUyyoXqe"
      },
      "execution_count": 97,
      "outputs": []
    },
    {
      "cell_type": "code",
      "source": [
        "# Téléchargement initial du dataset depuis le site officiel (à exécuter une seule fois)\n",
        "# !wget https://data.cityofchicago.org/api/views/ijzp-q8t2/rows.csv?accessType=DOWNLOAD\n",
        "# !mv rows.csv?accessType=DOWNLOAD crimes_data_set.csv"
      ],
      "metadata": {
        "id": "cuAKrVwpoXi_"
      },
      "execution_count": 98,
      "outputs": []
    },
    {
      "cell_type": "code",
      "source": [
        "# Lecture du fichier CSV avec Spark (en précisant header=True pour garder les noms de colonnes)\n",
        "df = spark.read.csv(\"crimes_data_set.csv\", header=True)"
      ],
      "metadata": {
        "id": "6XB34Ssgogzd"
      },
      "execution_count": 99,
      "outputs": []
    },
    {
      "cell_type": "code",
      "source": [
        "print(\"Nombre de lignes :\", df.count())   # Affiche le nombre total de lignes (≈ 8 millions)\n",
        "df.printSchema()                          # Affiche le schéma actuel (toutes colonnes = string au départ)\n",
        "df.show(5)                                # Affiche les 5 premières lignes pour aperçu"
      ],
      "metadata": {
        "colab": {
          "base_uri": "https://localhost:8080/"
        },
        "id": "BqH-hZQoogws",
        "outputId": "147267c4-d6a4-47e2-8fc1-e059a6e6cce3"
      },
      "execution_count": 100,
      "outputs": [
        {
          "output_type": "stream",
          "name": "stdout",
          "text": [
            "Nombre de lignes : 8407333\n",
            "root\n",
            " |-- ID: string (nullable = true)\n",
            " |-- Case Number: string (nullable = true)\n",
            " |-- Date: string (nullable = true)\n",
            " |-- Block: string (nullable = true)\n",
            " |-- IUCR: string (nullable = true)\n",
            " |-- Primary Type: string (nullable = true)\n",
            " |-- Description: string (nullable = true)\n",
            " |-- Location Description: string (nullable = true)\n",
            " |-- Arrest: string (nullable = true)\n",
            " |-- Domestic: string (nullable = true)\n",
            " |-- Beat: string (nullable = true)\n",
            " |-- District: string (nullable = true)\n",
            " |-- Ward: string (nullable = true)\n",
            " |-- Community Area: string (nullable = true)\n",
            " |-- FBI Code: string (nullable = true)\n",
            " |-- X Coordinate: string (nullable = true)\n",
            " |-- Y Coordinate: string (nullable = true)\n",
            " |-- Year: string (nullable = true)\n",
            " |-- Updated On: string (nullable = true)\n",
            " |-- Latitude: string (nullable = true)\n",
            " |-- Longitude: string (nullable = true)\n",
            " |-- Location: string (nullable = true)\n",
            "\n",
            "+--------+-----------+--------------------+--------------------+----+--------------------+--------------------+--------------------+------+--------+----+--------+----+--------------+--------+------------+------------+----+--------------------+------------+-------------+--------------------+\n",
            "|      ID|Case Number|                Date|               Block|IUCR|        Primary Type|         Description|Location Description|Arrest|Domestic|Beat|District|Ward|Community Area|FBI Code|X Coordinate|Y Coordinate|Year|          Updated On|    Latitude|    Longitude|            Location|\n",
            "+--------+-----------+--------------------+--------------------+----+--------------------+--------------------+--------------------+------+--------+----+--------+----+--------------+--------+------------+------------+----+--------------------+------------+-------------+--------------------+\n",
            "|13311263|   JG503434|07/29/2022 03:39:...|     023XX S TROY ST|1582|OFFENSE INVOLVING...|   CHILD PORNOGRAPHY|           RESIDENCE|  true|   false|1033|     010|  25|            30|      17|        NULL|        NULL|2022|04/18/2024 03:40:...|        NULL|         NULL|                NULL|\n",
            "|13053066|   JG103252|01/03/2023 04:44:...|039XX W WASHINGTO...|2017|           NARCOTICS|MANUFACTURE / DEL...|            SIDEWALK|  true|   false|1122|     011|  28|            26|      18|        NULL|        NULL|2023|01/20/2024 03:41:...|        NULL|         NULL|                NULL|\n",
            "|12131221|   JD327000|08/10/2020 09:45:...|   015XX N DAMEN AVE|0326|             ROBBERY|AGGRAVATED VEHICU...|              STREET|  true|   false|1424|     014|   1|            24|      03|     1162795|     1909900|2020|05/17/2025 03:40:...|41.908417822| -87.67740693|(41.908417822, -8...|\n",
            "|11227634|   JB147599|08/26/2017 10:00:...| 001XX W RANDOLPH ST|0281| CRIM SEXUAL ASSAULT|      NON-AGGRAVATED|         HOTEL/MOTEL| false|   false|0122|     001|  42|            32|      02|        NULL|        NULL|2017|02/11/2018 03:57:...|        NULL|         NULL|                NULL|\n",
            "|13203321|   JG415333|09/06/2023 05:00:...|    002XX N Wells st|1320|     CRIMINAL DAMAGE|          TO VEHICLE|PARKING LOT / GAR...| false|   false|0122|     001|  42|            32|      14|     1174694|     1901831|2023|11/04/2023 03:40:...|41.886018055|-87.633937881|(41.886018055, -8...|\n",
            "+--------+-----------+--------------------+--------------------+----+--------------------+--------------------+--------------------+------+--------+----+--------+----+--------------+--------+------------+------------+----+--------------------+------------+-------------+--------------------+\n",
            "only showing top 5 rows\n",
            "\n"
          ]
        }
      ]
    },
    {
      "cell_type": "code",
      "source": [
        "# =========================================================\n",
        "# 5. Nettoyage & typage correct des colonnes\n",
        "# ========================================================="
      ],
      "metadata": {
        "id": "7z7__0q1ogtu"
      },
      "execution_count": 101,
      "outputs": []
    },
    {
      "cell_type": "code",
      "source": [
        "# Conversion des colonnes mal typées : string → type correct\n",
        "df = df.withColumn(\"ID\", col(\"ID\").cast(LongType())) \\\n",
        "       .withColumn(\"Date\", to_timestamp(col(\"Date\"), \"MM/dd/yyyy hh:mm:ss a\")) \\\n",
        "       .withColumn(\"Arrest\", col(\"Arrest\").cast(BooleanType())) \\\n",
        "       .withColumn(\"Domestic\", col(\"Domestic\").cast(BooleanType())) \\\n",
        "       .withColumn(\"Beat\", col(\"Beat\").cast(IntegerType())) \\\n",
        "       .withColumn(\"District\", col(\"District\").cast(IntegerType())) \\\n",
        "       .withColumn(\"Ward\", col(\"Ward\").cast(IntegerType())) \\\n",
        "       .withColumn(\"Community Area\", col(\"Community Area\").cast(IntegerType())) \\\n",
        "       .withColumn(\"Year\", col(\"Year\").cast(IntegerType())) \\\n",
        "       .withColumn(\"X Coordinate\", col(\"X Coordinate\").cast(DoubleType())) \\\n",
        "       .withColumn(\"Y Coordinate\", col(\"Y Coordinate\").cast(DoubleType())) \\\n",
        "       .withColumn(\"Latitude\", col(\"Latitude\").cast(DoubleType())) \\\n",
        "       .withColumn(\"Longitude\", col(\"Longitude\").cast(DoubleType()))\n",
        "\n",
        "df.printSchema()   # Vérifie le schéma après typage correct"
      ],
      "metadata": {
        "colab": {
          "base_uri": "https://localhost:8080/"
        },
        "id": "yF6l0MKsogq4",
        "outputId": "d2faf7bd-22fb-4c3a-ad62-f94796ada08f"
      },
      "execution_count": 102,
      "outputs": [
        {
          "output_type": "stream",
          "name": "stdout",
          "text": [
            "root\n",
            " |-- ID: long (nullable = true)\n",
            " |-- Case Number: string (nullable = true)\n",
            " |-- Date: timestamp (nullable = true)\n",
            " |-- Block: string (nullable = true)\n",
            " |-- IUCR: string (nullable = true)\n",
            " |-- Primary Type: string (nullable = true)\n",
            " |-- Description: string (nullable = true)\n",
            " |-- Location Description: string (nullable = true)\n",
            " |-- Arrest: boolean (nullable = true)\n",
            " |-- Domestic: boolean (nullable = true)\n",
            " |-- Beat: integer (nullable = true)\n",
            " |-- District: integer (nullable = true)\n",
            " |-- Ward: integer (nullable = true)\n",
            " |-- Community Area: integer (nullable = true)\n",
            " |-- FBI Code: string (nullable = true)\n",
            " |-- X Coordinate: double (nullable = true)\n",
            " |-- Y Coordinate: double (nullable = true)\n",
            " |-- Year: integer (nullable = true)\n",
            " |-- Updated On: string (nullable = true)\n",
            " |-- Latitude: double (nullable = true)\n",
            " |-- Longitude: double (nullable = true)\n",
            " |-- Location: string (nullable = true)\n",
            "\n"
          ]
        }
      ]
    },
    {
      "cell_type": "code",
      "source": [
        "# =========================================================\n",
        "# 6. Exploration des données\n",
        "# ========================================================="
      ],
      "metadata": {
        "id": "mrVwxZ6uogoI"
      },
      "execution_count": 103,
      "outputs": []
    },
    {
      "cell_type": "code",
      "source": [
        "print(\"Nombre total de crimes :\", df.count())   # Vérifie à nouveau le nombre total de lignes\n",
        "print(\"Colonnes :\", df.columns)                 # Affiche toutes les colonnes disponibles\n",
        "df.select(\"Date\", \"Primary Type\", \"Arrest\", \"Location\").show(10)   # Exemple : aperçu de certaines colonnes"
      ],
      "metadata": {
        "colab": {
          "base_uri": "https://localhost:8080/"
        },
        "id": "MeO83AgeonOM",
        "outputId": "968c61ec-0636-45f9-f200-41d9da868263"
      },
      "execution_count": 104,
      "outputs": [
        {
          "output_type": "stream",
          "name": "stdout",
          "text": [
            "Nombre total de crimes : 8407333\n",
            "Colonnes : ['ID', 'Case Number', 'Date', 'Block', 'IUCR', 'Primary Type', 'Description', 'Location Description', 'Arrest', 'Domestic', 'Beat', 'District', 'Ward', 'Community Area', 'FBI Code', 'X Coordinate', 'Y Coordinate', 'Year', 'Updated On', 'Latitude', 'Longitude', 'Location']\n",
            "+-------------------+--------------------+------+--------------------+\n",
            "|               Date|        Primary Type|Arrest|            Location|\n",
            "+-------------------+--------------------+------+--------------------+\n",
            "|2022-07-29 03:39:00|OFFENSE INVOLVING...|  true|                NULL|\n",
            "|2023-01-03 16:44:00|           NARCOTICS|  true|                NULL|\n",
            "|2020-08-10 09:45:00|             ROBBERY|  true|(41.908417822, -8...|\n",
            "|2017-08-26 10:00:00| CRIM SEXUAL ASSAULT| false|                NULL|\n",
            "|2023-09-06 17:00:00|     CRIMINAL DAMAGE| false|(41.886018055, -8...|\n",
            "|2023-09-06 11:00:00|               THEFT| false|(41.871834768, -8...|\n",
            "|2019-05-21 08:20:00|            BURGLARY| false|(41.856547057, -8...|\n",
            "|2021-07-07 10:30:00|         SEX OFFENSE| false|(41.65511579, -87...|\n",
            "|2022-06-14 14:47:00|             ROBBERY|  true|(41.945232412, -8...|\n",
            "|2022-09-21 22:00:00| MOTOR VEHICLE THEFT|  true|(41.769346711, -8...|\n",
            "+-------------------+--------------------+------+--------------------+\n",
            "only showing top 10 rows\n",
            "\n"
          ]
        }
      ]
    },
    {
      "cell_type": "code",
      "source": [
        "# Ajout d’une colonne constante \"Dataset_Version\"\n",
        "df = df.withColumn(\"Dataset_Version\", lit(\"v1\"))\n",
        "df.select(\"Dataset_Version\").distinct().show()  # Vérifie que la colonne a bien été ajoutée"
      ],
      "metadata": {
        "colab": {
          "base_uri": "https://localhost:8080/"
        },
        "id": "M7KTrFvVonLK",
        "outputId": "d88462fc-b55b-4519-d001-409ca903fa3e"
      },
      "execution_count": 105,
      "outputs": [
        {
          "output_type": "stream",
          "name": "stdout",
          "text": [
            "+---------------+\n",
            "|Dataset_Version|\n",
            "+---------------+\n",
            "|             v1|\n",
            "+---------------+\n",
            "\n"
          ]
        }
      ]
    },
    {
      "cell_type": "code",
      "source": [
        "# Crimes sur une date précise (exemple Noël 2024)\n",
        "one_day = df.filter(to_date(col(\"Date\")) == lit(\"2024-12-25\"))\n",
        "print(\"Crimes du 25/12/2024 :\", one_day.count())"
      ],
      "metadata": {
        "colab": {
          "base_uri": "https://localhost:8080/"
        },
        "id": "06WP8v4YonIi",
        "outputId": "75b52cc8-a2b3-4baa-ffa5-3eb052313e97"
      },
      "execution_count": 106,
      "outputs": [
        {
          "output_type": "stream",
          "name": "stdout",
          "text": [
            "Crimes du 25/12/2024 : 507\n"
          ]
        }
      ]
    },
    {
      "cell_type": "code",
      "source": [
        "# Vérifie le nombre de types de crimes différents\n",
        "print(\"Types de crimes :\", df.select(\"Primary Type\").distinct().count())"
      ],
      "metadata": {
        "colab": {
          "base_uri": "https://localhost:8080/"
        },
        "id": "DO0pGySronFz",
        "outputId": "e6068155-9514-4b0e-befa-d179adb28bde"
      },
      "execution_count": 107,
      "outputs": [
        {
          "output_type": "stream",
          "name": "stdout",
          "text": [
            "Types de crimes : 34\n"
          ]
        }
      ]
    },
    {
      "cell_type": "code",
      "source": [
        "# =========================================================\n",
        "# 7. Analyses simples\n",
        "# ========================================================="
      ],
      "metadata": {
        "id": "XZiLipV4onDC"
      },
      "execution_count": 108,
      "outputs": []
    },
    {
      "cell_type": "code",
      "source": [
        "# Nombre de crimes par type, trié par ordre décroissant\n",
        "df.groupBy(\"Primary Type\").count().orderBy(\"count\", ascending=False).show(10)"
      ],
      "metadata": {
        "colab": {
          "base_uri": "https://localhost:8080/"
        },
        "id": "EzElMI4qom_-",
        "outputId": "2fa54b20-d616-4922-a853-24a79a888cbd"
      },
      "execution_count": 109,
      "outputs": [
        {
          "output_type": "stream",
          "name": "stdout",
          "text": [
            "+-------------------+-------+\n",
            "|       Primary Type|  count|\n",
            "+-------------------+-------+\n",
            "|              THEFT|1784548|\n",
            "|            BATTERY|1531956|\n",
            "|    CRIMINAL DAMAGE| 956023|\n",
            "|          NARCOTICS| 763256|\n",
            "|            ASSAULT| 562825|\n",
            "|      OTHER OFFENSE| 524112|\n",
            "|           BURGLARY| 444616|\n",
            "|MOTOR VEHICLE THEFT| 429512|\n",
            "| DECEPTIVE PRACTICE| 386844|\n",
            "|            ROBBERY| 314226|\n",
            "+-------------------+-------+\n",
            "only showing top 10 rows\n",
            "\n"
          ]
        }
      ]
    },
    {
      "cell_type": "code",
      "source": [
        "# Nombre de crimes par type de lieu\n",
        "df.groupBy(\"Location Description\").count().orderBy(\"count\", ascending=False).show(10)"
      ],
      "metadata": {
        "colab": {
          "base_uri": "https://localhost:8080/"
        },
        "id": "01BRD0laoxxw",
        "outputId": "8a137917-0bed-439c-83c0-d933076f4f33"
      },
      "execution_count": 110,
      "outputs": [
        {
          "output_type": "stream",
          "name": "stdout",
          "text": [
            "+--------------------+-------+\n",
            "|Location Description|  count|\n",
            "+--------------------+-------+\n",
            "|              STREET|2196511|\n",
            "|           RESIDENCE|1381507|\n",
            "|           APARTMENT| 997950|\n",
            "|            SIDEWALK| 761589|\n",
            "|               OTHER| 269939|\n",
            "|PARKING LOT/GARAG...| 202930|\n",
            "|               ALLEY| 187279|\n",
            "|  SMALL RETAIL STORE| 168813|\n",
            "|SCHOOL, PUBLIC, B...| 146368|\n",
            "|          RESTAURANT| 141203|\n",
            "+--------------------+-------+\n",
            "only showing top 10 rows\n",
            "\n"
          ]
        }
      ]
    },
    {
      "cell_type": "code",
      "source": [
        "# Pourcentage des crimes ayant mené à une arrestation\n",
        "Total = df.filter(col(\"Arrest\") == \"true\").count()\n",
        "Arrests = df.select(\"Arrest\").count()\n",
        "Taux = (Total / Arrests)*100\n",
        "print(\"Taux arrestation :\", Taux, \"%\")"
      ],
      "metadata": {
        "colab": {
          "base_uri": "https://localhost:8080/"
        },
        "id": "B-wC0S9boxuF",
        "outputId": "c650e1b6-c896-40cf-8766-1746399a9aa9"
      },
      "execution_count": 114,
      "outputs": [
        {
          "output_type": "stream",
          "name": "stdout",
          "text": [
            "Taux arrestation : 25.247768822764606 %\n"
          ]
        }
      ]
    },
    {
      "cell_type": "code",
      "source": [
        "# =========================================================\n",
        "# 8. Analyses avancées\n",
        "# ========================================================="
      ],
      "metadata": {
        "id": "VMUWzf-FoxrT"
      },
      "execution_count": 115,
      "outputs": []
    },
    {
      "cell_type": "code",
      "source": [
        "# Pivot table : nombre de crimes par année et par statut d’arrestation (True/False)\n",
        "df.groupBy(\"Year\").pivot(\"Arrest\").count().orderBy(\"Year\").show()"
      ],
      "metadata": {
        "colab": {
          "base_uri": "https://localhost:8080/"
        },
        "id": "wVN4TpUsoxoZ",
        "outputId": "591ee56e-480c-4ee5-a112-c0c7dac63354"
      },
      "execution_count": 116,
      "outputs": [
        {
          "output_type": "stream",
          "name": "stdout",
          "text": [
            "+----+------+------+\n",
            "|Year| false|  true|\n",
            "+----+------+------+\n",
            "|2001|344008|141944|\n",
            "|2002|345249|141581|\n",
            "|2003|334391|141604|\n",
            "|2004|324734|144705|\n",
            "|2005|312857|140928|\n",
            "|2006|312769|135429|\n",
            "|2007|305220|131885|\n",
            "|2008|317183|110028|\n",
            "|2009|282011|110848|\n",
            "|2010|269993|100562|\n",
            "|2011|255733| 96305|\n",
            "|2012|245683| 90684|\n",
            "|2013|221025| 86578|\n",
            "|2014|196203| 79663|\n",
            "|2015|194795| 70071|\n",
            "|2016|216864| 53065|\n",
            "|2017|216563| 52693|\n",
            "|2018|215193| 53911|\n",
            "|2019|205356| 56292|\n",
            "|2020|178443| 34195|\n",
            "+----+------+------+\n",
            "only showing top 20 rows\n",
            "\n"
          ]
        }
      ]
    },
    {
      "cell_type": "code",
      "source": [
        "# Window function : obtenir le dernier crime par district (ROW_NUMBER)\n",
        "from pyspark.sql.window import Window\n",
        "w = Window.partitionBy(\"District\").orderBy(col(\"Date\").desc())\n",
        "df.withColumn(\"rn\", row_number().over(w)) \\\n",
        "  .filter(\"rn = 1\") \\\n",
        "  .select(\"District\",\"Date\",\"Primary Type\").show(10)"
      ],
      "metadata": {
        "colab": {
          "base_uri": "https://localhost:8080/"
        },
        "id": "Kr7utmZ9oxlW",
        "outputId": "d4b2b6d5-3fc1-474a-a8c3-4d0f6421cb4c"
      },
      "execution_count": 117,
      "outputs": [
        {
          "output_type": "stream",
          "name": "stdout",
          "text": [
            "+--------+-------------------+------------------+\n",
            "|District|               Date|      Primary Type|\n",
            "+--------+-------------------+------------------+\n",
            "|    NULL|2017-12-14 20:10:00|           BATTERY|\n",
            "|       1|2025-09-17 00:00:00|   CRIMINAL DAMAGE|\n",
            "|       2|2025-09-17 00:00:00|     OTHER OFFENSE|\n",
            "|       3|2025-09-17 00:00:00|     OTHER OFFENSE|\n",
            "|       4|2025-09-16 22:10:00|           BATTERY|\n",
            "|       5|2025-09-16 23:54:00|           BATTERY|\n",
            "|       6|2025-09-17 00:00:00|   CRIMINAL DAMAGE|\n",
            "|       7|2025-09-16 23:30:00|             THEFT|\n",
            "|       8|2025-09-17 00:00:00|DECEPTIVE PRACTICE|\n",
            "|       9|2025-09-16 23:36:00| WEAPONS VIOLATION|\n",
            "+--------+-------------------+------------------+\n",
            "only showing top 10 rows\n",
            "\n"
          ]
        }
      ]
    },
    {
      "cell_type": "code",
      "source": [
        "# Vérifier les valeurs nulles par colonne\n",
        "print(\"Valeurs nulles par colonne :\")\n",
        "for c in df.columns:\n",
        "    print(c, df.filter(col(c).isNull()).count())"
      ],
      "metadata": {
        "colab": {
          "base_uri": "https://localhost:8080/"
        },
        "id": "03LZC_J2oxie",
        "outputId": "c452d272-b0e8-4f9f-f411-1f00d0c52006"
      },
      "execution_count": 118,
      "outputs": [
        {
          "output_type": "stream",
          "name": "stdout",
          "text": [
            "Valeurs nulles par colonne :\n",
            "ID 0\n",
            "Case Number 0\n",
            "Date 0\n",
            "Block 0\n",
            "IUCR 0\n",
            "Primary Type 0\n",
            "Description 0\n",
            "Location Description 14872\n",
            "Arrest 0\n",
            "Domestic 0\n",
            "Beat 0\n",
            "District 47\n",
            "Ward 614822\n",
            "Community Area 613687\n",
            "FBI Code 0\n",
            "X Coordinate 93694\n",
            "Y Coordinate 93694\n",
            "Year 0\n",
            "Updated On 0\n",
            "Latitude 93694\n",
            "Longitude 93694\n",
            "Location 93694\n",
            "Dataset_Version 0\n"
          ]
        }
      ]
    },
    {
      "cell_type": "code",
      "source": [
        "# =========================================================\n",
        "# 9. SQL avec Spark\n",
        "# ========================================================="
      ],
      "metadata": {
        "id": "UBsdyagyo474"
      },
      "execution_count": 119,
      "outputs": []
    },
    {
      "cell_type": "code",
      "source": [
        "# Création d’une vue SQL temporaire pour interroger le DataFrame en SQL\n",
        "df.createOrReplaceTempView(\"crimes\")"
      ],
      "metadata": {
        "id": "6FuE7uTvo44_"
      },
      "execution_count": 120,
      "outputs": []
    },
    {
      "cell_type": "code",
      "source": [
        "# Exemple : crimes menant à une arrestation par année et type\n",
        "spark.sql(\"\"\"\n",
        "SELECT Year, `Primary Type`, COUNT(*) as total\n",
        "FROM crimes\n",
        "WHERE Arrest = true\n",
        "GROUP BY Year, `Primary Type`\n",
        "ORDER BY total DESC\n",
        "\"\"\").show(10)"
      ],
      "metadata": {
        "colab": {
          "base_uri": "https://localhost:8080/"
        },
        "id": "9f19orEho42K",
        "outputId": "8716c63a-83c9-4dce-9db3-67e3aa3d5c2b"
      },
      "execution_count": 121,
      "outputs": [
        {
          "output_type": "stream",
          "name": "stdout",
          "text": [
            "+----+------------+-----+\n",
            "|Year|Primary Type|total|\n",
            "+----+------------+-----+\n",
            "|2004|   NARCOTICS|57034|\n",
            "|2005|   NARCOTICS|56121|\n",
            "|2006|   NARCOTICS|55236|\n",
            "|2003|   NARCOTICS|54283|\n",
            "|2007|   NARCOTICS|53251|\n",
            "|2002|   NARCOTICS|51781|\n",
            "|2001|   NARCOTICS|50560|\n",
            "|2008|   NARCOTICS|45482|\n",
            "|2010|   NARCOTICS|43299|\n",
            "|2009|   NARCOTICS|43215|\n",
            "+----+------------+-----+\n",
            "only showing top 10 rows\n",
            "\n"
          ]
        }
      ]
    },
    {
      "cell_type": "code",
      "source": [
        "# =========================================================\n",
        "# 10. UDF : fonction personnalisée\n",
        "# ========================================================="
      ],
      "metadata": {
        "id": "MJHtI5KAo4y4"
      },
      "execution_count": 122,
      "outputs": []
    },
    {
      "cell_type": "code",
      "source": [
        "from pyspark.sql.functions import udf\n",
        "from pyspark.sql.types import StringType\n",
        "\n",
        "# Fonction Python pour classifier les crimes en catégories simples\n",
        "def classify_crime(desc):\n",
        "    if \"THEFT\" in str(desc).upper():\n",
        "        return \"Vol\"\n",
        "    elif \"BATTERY\" in str(desc).upper():\n",
        "        return \"Agression\"\n",
        "    return \"Autre\"\n",
        "\n",
        "# Transformation de la fonction Python → UDF utilisable par Spark\n",
        "udf_classify = udf(classify_crime, StringType())\n",
        "\n",
        "# Application : création d’une nouvelle colonne \"Crime_Category\"\n",
        "df = df.withColumn(\"Crime_Category\", udf_classify(col(\"Primary Type\")))\n",
        "df.select(\"Primary Type\", \"Crime_Category\").distinct().show(10)"
      ],
      "metadata": {
        "colab": {
          "base_uri": "https://localhost:8080/"
        },
        "id": "Tvfs-Ob5o-GY",
        "outputId": "52d98454-90b6-4dde-f319-9ed5498b2b03"
      },
      "execution_count": 123,
      "outputs": [
        {
          "output_type": "stream",
          "name": "stdout",
          "text": [
            "+--------------------+--------------+\n",
            "|        Primary Type|Crime_Category|\n",
            "+--------------------+--------------+\n",
            "|CRIMINAL SEXUAL A...|         Autre|\n",
            "|PUBLIC PEACE VIOL...|         Autre|\n",
            "|     CRIMINAL DAMAGE|         Autre|\n",
            "|           RITUALISM|         Autre|\n",
            "|        NON-CRIMINAL|         Autre|\n",
            "|             ROBBERY|         Autre|\n",
            "| CRIM SEXUAL ASSAULT|         Autre|\n",
            "|        PROSTITUTION|         Autre|\n",
            "|CONCEALED CARRY L...|         Autre|\n",
            "|LIQUOR LAW VIOLATION|         Autre|\n",
            "+--------------------+--------------+\n",
            "only showing top 10 rows\n",
            "\n"
          ]
        }
      ]
    },
    {
      "cell_type": "code",
      "source": [
        "# =========================================================\n",
        "# 11. Sauvegarde des résultats\n",
        "# ========================================================="
      ],
      "metadata": {
        "id": "Bvy_D7V9o-DG"
      },
      "execution_count": 124,
      "outputs": []
    },
    {
      "cell_type": "code",
      "source": [
        "# Sauvegarde du DataFrame nettoyé en format Parquet (format optimisé pour Big Data)\n",
        "#df.write.mode(\"overwrite\").parquet(\"/content/drive/MyDrive/crimes_cleaned.parquet\")"
      ],
      "metadata": {
        "id": "NWlafdc1o-AW"
      },
      "execution_count": 125,
      "outputs": []
    }
  ]
}